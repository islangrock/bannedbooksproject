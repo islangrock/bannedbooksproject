{
 "cells": [
  {
   "cell_type": "code",
   "execution_count": 33,
   "metadata": {},
   "outputs": [],
   "source": [
    "import pandas as pd"
   ]
  },
  {
   "cell_type": "code",
   "execution_count": 1,
   "metadata": {},
   "outputs": [],
   "source": [
    "from pytrends.request import TrendReq\n",
    "\n",
    "pytrends = TrendReq(hl='en-US', tz=360)"
   ]
  },
  {
   "cell_type": "code",
   "execution_count": 46,
   "metadata": {},
   "outputs": [],
   "source": [
    "book_name = \"The Absolutely True Diary of a Part Time Indian\""
   ]
  },
  {
   "cell_type": "code",
   "execution_count": 68,
   "metadata": {},
   "outputs": [],
   "source": [
    "book_df = pd.read_csv(\"../Data/booksbandates.csv\", index_col=0)#\"../Data/PEN_booklist.csv\")\n",
    "book_df[\"ID\"] = book_df.index"
   ]
  },
  {
   "cell_type": "markdown",
   "metadata": {},
   "source": [
    "## Call API and collect data"
   ]
  },
  {
   "cell_type": "code",
   "execution_count": 69,
   "metadata": {},
   "outputs": [],
   "source": [
    "def call_api(ID, book_name, time_frame):\n",
    "    kw_list = [book_name]\n",
    "    pytrends.build_payload(kw_list, cat=0, timeframe=time_frame, geo='', gprop='')\n",
    "    df = pytrends.interest_over_time().reset_index().rename(columns={book_name: 'interest'})\n",
    "    df[\"book\"] = book_name\n",
    "    df[\"ID\"] = ID\n",
    "    return df"
   ]
  },
  {
   "cell_type": "code",
   "execution_count": 70,
   "metadata": {},
   "outputs": [],
   "source": [
    "dfs = pd.DataFrame(columns=[\"ID\", \"date\", \"interest\", \"book\"])\n",
    "for i in list(book_df.ID)[:5]:\n",
    "    book_name = book_df[book_df.ID == i].Title.item()\n",
    "    time_frame = book_df[book_df.ID == i].time_frame.item() #'2016-12-01 2016-12-02'\n",
    "    df = call_api(i, book_name, time_frame)\n",
    "    df = df.drop([\"isPartial\"], axis=1)\n",
    "    dfs = pd.concat([dfs, df], ignore_index=True)"
   ]
  },
  {
   "cell_type": "code",
   "execution_count": 71,
   "metadata": {},
   "outputs": [
    {
     "data": {
      "text/html": [
       "<div>\n",
       "<style scoped>\n",
       "    .dataframe tbody tr th:only-of-type {\n",
       "        vertical-align: middle;\n",
       "    }\n",
       "\n",
       "    .dataframe tbody tr th {\n",
       "        vertical-align: top;\n",
       "    }\n",
       "\n",
       "    .dataframe thead th {\n",
       "        text-align: right;\n",
       "    }\n",
       "</style>\n",
       "<table border=\"1\" class=\"dataframe\">\n",
       "  <thead>\n",
       "    <tr style=\"text-align: right;\">\n",
       "      <th></th>\n",
       "      <th>ID</th>\n",
       "      <th>date</th>\n",
       "      <th>interest</th>\n",
       "      <th>book</th>\n",
       "    </tr>\n",
       "  </thead>\n",
       "  <tbody>\n",
       "    <tr>\n",
       "      <th>0</th>\n",
       "      <td>1</td>\n",
       "      <td>2021-07-04</td>\n",
       "      <td>71</td>\n",
       "      <td>Ace of Spades</td>\n",
       "    </tr>\n",
       "    <tr>\n",
       "      <th>1</th>\n",
       "      <td>1</td>\n",
       "      <td>2021-07-11</td>\n",
       "      <td>73</td>\n",
       "      <td>Ace of Spades</td>\n",
       "    </tr>\n",
       "    <tr>\n",
       "      <th>2</th>\n",
       "      <td>1</td>\n",
       "      <td>2021-07-18</td>\n",
       "      <td>86</td>\n",
       "      <td>Ace of Spades</td>\n",
       "    </tr>\n",
       "    <tr>\n",
       "      <th>3</th>\n",
       "      <td>1</td>\n",
       "      <td>2021-07-25</td>\n",
       "      <td>77</td>\n",
       "      <td>Ace of Spades</td>\n",
       "    </tr>\n",
       "    <tr>\n",
       "      <th>4</th>\n",
       "      <td>1</td>\n",
       "      <td>2021-08-01</td>\n",
       "      <td>73</td>\n",
       "      <td>Ace of Spades</td>\n",
       "    </tr>\n",
       "    <tr>\n",
       "      <th>...</th>\n",
       "      <td>...</td>\n",
       "      <td>...</td>\n",
       "      <td>...</td>\n",
       "      <td>...</td>\n",
       "    </tr>\n",
       "    <tr>\n",
       "      <th>190</th>\n",
       "      <td>5</td>\n",
       "      <td>2022-05-29</td>\n",
       "      <td>54</td>\n",
       "      <td>The Poet X</td>\n",
       "    </tr>\n",
       "    <tr>\n",
       "      <th>191</th>\n",
       "      <td>5</td>\n",
       "      <td>2022-06-05</td>\n",
       "      <td>58</td>\n",
       "      <td>The Poet X</td>\n",
       "    </tr>\n",
       "    <tr>\n",
       "      <th>192</th>\n",
       "      <td>5</td>\n",
       "      <td>2022-06-12</td>\n",
       "      <td>42</td>\n",
       "      <td>The Poet X</td>\n",
       "    </tr>\n",
       "    <tr>\n",
       "      <th>193</th>\n",
       "      <td>5</td>\n",
       "      <td>2022-06-19</td>\n",
       "      <td>23</td>\n",
       "      <td>The Poet X</td>\n",
       "    </tr>\n",
       "    <tr>\n",
       "      <th>194</th>\n",
       "      <td>5</td>\n",
       "      <td>2022-06-26</td>\n",
       "      <td>0</td>\n",
       "      <td>The Poet X</td>\n",
       "    </tr>\n",
       "  </tbody>\n",
       "</table>\n",
       "<p>195 rows × 4 columns</p>\n",
       "</div>"
      ],
      "text/plain": [
       "    ID       date interest           book\n",
       "0    1 2021-07-04       71  Ace of Spades\n",
       "1    1 2021-07-11       73  Ace of Spades\n",
       "2    1 2021-07-18       86  Ace of Spades\n",
       "3    1 2021-07-25       77  Ace of Spades\n",
       "4    1 2021-08-01       73  Ace of Spades\n",
       "..  ..        ...      ...            ...\n",
       "190  5 2022-05-29       54     The Poet X\n",
       "191  5 2022-06-05       58     The Poet X\n",
       "192  5 2022-06-12       42     The Poet X\n",
       "193  5 2022-06-19       23     The Poet X\n",
       "194  5 2022-06-26        0     The Poet X\n",
       "\n",
       "[195 rows x 4 columns]"
      ]
     },
     "execution_count": 71,
     "metadata": {},
     "output_type": "execute_result"
    }
   ],
   "source": [
    "dfs"
   ]
  },
  {
   "cell_type": "code",
   "execution_count": 72,
   "metadata": {},
   "outputs": [],
   "source": [
    "dfs.to_csv(\"../Data/interest_data/test.csv\")"
   ]
  },
  {
   "cell_type": "code",
   "execution_count": null,
   "metadata": {},
   "outputs": [],
   "source": []
  }
 ],
 "metadata": {
  "kernelspec": {
   "display_name": "Python 3",
   "language": "python",
   "name": "python3"
  },
  "language_info": {
   "codemirror_mode": {
    "name": "ipython",
    "version": 3
   },
   "file_extension": ".py",
   "mimetype": "text/x-python",
   "name": "python",
   "nbconvert_exporter": "python",
   "pygments_lexer": "ipython3",
   "version": "3.8.3"
  }
 },
 "nbformat": 4,
 "nbformat_minor": 4
}
